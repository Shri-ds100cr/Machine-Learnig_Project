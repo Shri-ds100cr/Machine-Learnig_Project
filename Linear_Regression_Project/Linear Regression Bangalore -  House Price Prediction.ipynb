{
 "cells": [
  {
   "cell_type": "markdown",
   "metadata": {
    "colab_type": "text",
    "id": "dBzKIZDNpvcv"
   },
   "source": [
    "# Business Problem - Predict the Price of Bangalore House\n",
    "Using Linear Regression - Supervised Machine Learning Algorithm"
   ]
  },
  {
   "cell_type": "markdown",
   "metadata": {
    "colab_type": "text",
    "id": "XMXuHe_Nr3aJ"
   },
   "source": [
    "### Load Libraries"
   ]
  },
  {
   "cell_type": "code",
   "execution_count": 1,
   "metadata": {
    "colab": {},
    "colab_type": "code",
    "executionInfo": {
     "elapsed": 1852,
     "status": "ok",
     "timestamp": 1592756533570,
     "user": {
      "displayName": "indian ai production",
      "photoUrl": "",
      "userId": "05336710603640792650"
     },
     "user_tz": -330
    },
    "id": "XumaS3odplm-"
   },
   "outputs": [],
   "source": [
    "import pandas as pd"
   ]
  },
  {
   "cell_type": "markdown",
   "metadata": {
    "colab_type": "text",
    "id": "VhV2t0oasB1T"
   },
   "source": [
    "### Load Data"
   ]
  },
  {
   "cell_type": "code",
   "execution_count": 6,
   "metadata": {
    "colab": {},
    "colab_type": "code",
    "executionInfo": {
     "elapsed": 2534,
     "status": "ok",
     "timestamp": 1592756596789,
     "user": {
      "displayName": "indian ai production",
      "photoUrl": "",
      "userId": "05336710603640792650"
     },
     "user_tz": -330
    },
    "id": "WSg8xJenr_Fb"
   },
   "outputs": [
    {
     "data": {
      "text/html": [
       "<div>\n",
       "<style scoped>\n",
       "    .dataframe tbody tr th:only-of-type {\n",
       "        vertical-align: middle;\n",
       "    }\n",
       "\n",
       "    .dataframe tbody tr th {\n",
       "        vertical-align: top;\n",
       "    }\n",
       "\n",
       "    .dataframe thead th {\n",
       "        text-align: right;\n",
       "    }\n",
       "</style>\n",
       "<table border=\"1\" class=\"dataframe\">\n",
       "  <thead>\n",
       "    <tr style=\"text-align: right;\">\n",
       "      <th></th>\n",
       "      <th>area_type</th>\n",
       "      <th>availability</th>\n",
       "      <th>location</th>\n",
       "      <th>size</th>\n",
       "      <th>society</th>\n",
       "      <th>total_sqft</th>\n",
       "      <th>bath</th>\n",
       "      <th>balcony</th>\n",
       "      <th>price</th>\n",
       "    </tr>\n",
       "  </thead>\n",
       "  <tbody>\n",
       "    <tr>\n",
       "      <th>0</th>\n",
       "      <td>Super built-up  Area</td>\n",
       "      <td>19-Dec</td>\n",
       "      <td>Electronic City Phase II</td>\n",
       "      <td>2 BHK</td>\n",
       "      <td>Coomee</td>\n",
       "      <td>1056</td>\n",
       "      <td>2.0</td>\n",
       "      <td>1.0</td>\n",
       "      <td>39.07</td>\n",
       "    </tr>\n",
       "    <tr>\n",
       "      <th>1</th>\n",
       "      <td>Plot  Area</td>\n",
       "      <td>Ready To Move</td>\n",
       "      <td>Chikka Tirupathi</td>\n",
       "      <td>4 Bedroom</td>\n",
       "      <td>Theanmp</td>\n",
       "      <td>2600</td>\n",
       "      <td>5.0</td>\n",
       "      <td>3.0</td>\n",
       "      <td>120.00</td>\n",
       "    </tr>\n",
       "    <tr>\n",
       "      <th>2</th>\n",
       "      <td>Built-up  Area</td>\n",
       "      <td>Ready To Move</td>\n",
       "      <td>Uttarahalli</td>\n",
       "      <td>3 BHK</td>\n",
       "      <td>NaN</td>\n",
       "      <td>1440</td>\n",
       "      <td>2.0</td>\n",
       "      <td>3.0</td>\n",
       "      <td>62.00</td>\n",
       "    </tr>\n",
       "    <tr>\n",
       "      <th>3</th>\n",
       "      <td>Super built-up  Area</td>\n",
       "      <td>Ready To Move</td>\n",
       "      <td>Lingadheeranahalli</td>\n",
       "      <td>3 BHK</td>\n",
       "      <td>Soiewre</td>\n",
       "      <td>1521</td>\n",
       "      <td>3.0</td>\n",
       "      <td>1.0</td>\n",
       "      <td>95.00</td>\n",
       "    </tr>\n",
       "    <tr>\n",
       "      <th>4</th>\n",
       "      <td>Super built-up  Area</td>\n",
       "      <td>Ready To Move</td>\n",
       "      <td>Kothanur</td>\n",
       "      <td>2 BHK</td>\n",
       "      <td>NaN</td>\n",
       "      <td>1200</td>\n",
       "      <td>2.0</td>\n",
       "      <td>1.0</td>\n",
       "      <td>51.00</td>\n",
       "    </tr>\n",
       "    <tr>\n",
       "      <th>...</th>\n",
       "      <td>...</td>\n",
       "      <td>...</td>\n",
       "      <td>...</td>\n",
       "      <td>...</td>\n",
       "      <td>...</td>\n",
       "      <td>...</td>\n",
       "      <td>...</td>\n",
       "      <td>...</td>\n",
       "      <td>...</td>\n",
       "    </tr>\n",
       "    <tr>\n",
       "      <th>13315</th>\n",
       "      <td>Built-up  Area</td>\n",
       "      <td>Ready To Move</td>\n",
       "      <td>Whitefield</td>\n",
       "      <td>5 Bedroom</td>\n",
       "      <td>ArsiaEx</td>\n",
       "      <td>3453</td>\n",
       "      <td>4.0</td>\n",
       "      <td>0.0</td>\n",
       "      <td>231.00</td>\n",
       "    </tr>\n",
       "    <tr>\n",
       "      <th>13316</th>\n",
       "      <td>Super built-up  Area</td>\n",
       "      <td>Ready To Move</td>\n",
       "      <td>Richards Town</td>\n",
       "      <td>4 BHK</td>\n",
       "      <td>NaN</td>\n",
       "      <td>3600</td>\n",
       "      <td>5.0</td>\n",
       "      <td>NaN</td>\n",
       "      <td>400.00</td>\n",
       "    </tr>\n",
       "    <tr>\n",
       "      <th>13317</th>\n",
       "      <td>Built-up  Area</td>\n",
       "      <td>Ready To Move</td>\n",
       "      <td>Raja Rajeshwari Nagar</td>\n",
       "      <td>2 BHK</td>\n",
       "      <td>Mahla T</td>\n",
       "      <td>1141</td>\n",
       "      <td>2.0</td>\n",
       "      <td>1.0</td>\n",
       "      <td>60.00</td>\n",
       "    </tr>\n",
       "    <tr>\n",
       "      <th>13318</th>\n",
       "      <td>Super built-up  Area</td>\n",
       "      <td>18-Jun</td>\n",
       "      <td>Padmanabhanagar</td>\n",
       "      <td>4 BHK</td>\n",
       "      <td>SollyCl</td>\n",
       "      <td>4689</td>\n",
       "      <td>4.0</td>\n",
       "      <td>1.0</td>\n",
       "      <td>488.00</td>\n",
       "    </tr>\n",
       "    <tr>\n",
       "      <th>13319</th>\n",
       "      <td>Super built-up  Area</td>\n",
       "      <td>Ready To Move</td>\n",
       "      <td>Doddathoguru</td>\n",
       "      <td>1 BHK</td>\n",
       "      <td>NaN</td>\n",
       "      <td>550</td>\n",
       "      <td>1.0</td>\n",
       "      <td>1.0</td>\n",
       "      <td>17.00</td>\n",
       "    </tr>\n",
       "  </tbody>\n",
       "</table>\n",
       "<p>13320 rows × 9 columns</p>\n",
       "</div>"
      ],
      "text/plain": [
       "                  area_type   availability                  location  \\\n",
       "0      Super built-up  Area         19-Dec  Electronic City Phase II   \n",
       "1                Plot  Area  Ready To Move          Chikka Tirupathi   \n",
       "2            Built-up  Area  Ready To Move               Uttarahalli   \n",
       "3      Super built-up  Area  Ready To Move        Lingadheeranahalli   \n",
       "4      Super built-up  Area  Ready To Move                  Kothanur   \n",
       "...                     ...            ...                       ...   \n",
       "13315        Built-up  Area  Ready To Move                Whitefield   \n",
       "13316  Super built-up  Area  Ready To Move             Richards Town   \n",
       "13317        Built-up  Area  Ready To Move     Raja Rajeshwari Nagar   \n",
       "13318  Super built-up  Area         18-Jun           Padmanabhanagar   \n",
       "13319  Super built-up  Area  Ready To Move              Doddathoguru   \n",
       "\n",
       "            size  society total_sqft  bath  balcony   price  \n",
       "0          2 BHK  Coomee        1056   2.0      1.0   39.07  \n",
       "1      4 Bedroom  Theanmp       2600   5.0      3.0  120.00  \n",
       "2          3 BHK      NaN       1440   2.0      3.0   62.00  \n",
       "3          3 BHK  Soiewre       1521   3.0      1.0   95.00  \n",
       "4          2 BHK      NaN       1200   2.0      1.0   51.00  \n",
       "...          ...      ...        ...   ...      ...     ...  \n",
       "13315  5 Bedroom  ArsiaEx       3453   4.0      0.0  231.00  \n",
       "13316      4 BHK      NaN       3600   5.0      NaN  400.00  \n",
       "13317      2 BHK  Mahla T       1141   2.0      1.0   60.00  \n",
       "13318      4 BHK  SollyCl       4689   4.0      1.0  488.00  \n",
       "13319      1 BHK      NaN        550   1.0      1.0   17.00  \n",
       "\n",
       "[13320 rows x 9 columns]"
      ]
     },
     "execution_count": 6,
     "metadata": {},
     "output_type": "execute_result"
    }
   ],
   "source": [
    "path = r\"https://drive.google.com/uc?export=download&id=1xxDtrZKfuWQfl-6KA9XEd_eatitNPnkB\" \n",
    "df = pd.read_csv(path)"
   ]
  },
  {
   "cell_type": "code",
   "execution_count": null,
   "metadata": {
    "colab": {
     "base_uri": "https://localhost:8080/",
     "height": 286
    },
    "colab_type": "code",
    "executionInfo": {
     "elapsed": 1611,
     "status": "ok",
     "timestamp": 1592756606166,
     "user": {
      "displayName": "indian ai production",
      "photoUrl": "",
      "userId": "05336710603640792650"
     },
     "user_tz": -330
    },
    "id": "UN743hihsOV-",
    "outputId": "02a89eda-9758-4d16-8922-21d150b266cb"
   },
   "outputs": [],
   "source": [
    "df.head()"
   ]
  },
  {
   "cell_type": "markdown",
   "metadata": {
    "colab_type": "text",
    "id": "_Sb7Jf8Ns3f5"
   },
   "source": [
    "### Split Data"
   ]
  },
  {
   "cell_type": "code",
   "execution_count": 4,
   "metadata": {
    "colab": {
     "base_uri": "https://localhost:8080/",
     "height": 52
    },
    "colab_type": "code",
    "executionInfo": {
     "elapsed": 1532,
     "status": "ok",
     "timestamp": 1592756814150,
     "user": {
      "displayName": "indian ai production",
      "photoUrl": "",
      "userId": "05336710603640792650"
     },
     "user_tz": -330
    },
    "id": "ELKV24TYsQum",
    "outputId": "11a0d0b6-9662-4b62-fbad-c7b9ee5c0da0"
   },
   "outputs": [
    {
     "name": "stdout",
     "output_type": "stream",
     "text": [
      "Shape of X =  (7120, 107)\n",
      "Shape of y =  (7120,)\n"
     ]
    }
   ],
   "source": [
    "X = df.drop('price', axis=1)\n",
    "y = df['price']\n",
    "\n",
    "print('Shape of X = ', X.shape)\n",
    "print('Shape of y = ', y.shape)"
   ]
  },
  {
   "cell_type": "code",
   "execution_count": 5,
   "metadata": {
    "colab": {
     "base_uri": "https://localhost:8080/",
     "height": 87
    },
    "colab_type": "code",
    "executionInfo": {
     "elapsed": 1298,
     "status": "ok",
     "timestamp": 1592756879760,
     "user": {
      "displayName": "indian ai production",
      "photoUrl": "",
      "userId": "05336710603640792650"
     },
     "user_tz": -330
    },
    "id": "SKmbpuzAtDp3",
    "outputId": "60d669dc-129a-44c5-e7c0-e440208b9dbf"
   },
   "outputs": [
    {
     "name": "stdout",
     "output_type": "stream",
     "text": [
      "Shape of X_train =  (5696, 107)\n",
      "Shape of y_train =  (5696,)\n",
      "Shape of X_test =  (1424, 107)\n",
      "Shape of y_test =  (1424,)\n"
     ]
    }
   ],
   "source": [
    "from sklearn.model_selection import train_test_split\n",
    "X_train, X_test, y_train, y_test = train_test_split(X, y, test_size=0.2, random_state=51)\n",
    "\n",
    "print('Shape of X_train = ', X_train.shape)\n",
    "print('Shape of y_train = ', y_train.shape)\n",
    "print('Shape of X_test = ', X_test.shape)\n",
    "print('Shape of y_test = ', y_test.shape)"
   ]
  },
  {
   "cell_type": "markdown",
   "metadata": {
    "colab_type": "text",
    "id": "udnxLNaSth6a"
   },
   "source": [
    "### Feature Scaling"
   ]
  },
  {
   "cell_type": "code",
   "execution_count": 6,
   "metadata": {
    "colab": {},
    "colab_type": "code",
    "executionInfo": {
     "elapsed": 1527,
     "status": "ok",
     "timestamp": 1592756962628,
     "user": {
      "displayName": "indian ai production",
      "photoUrl": "",
      "userId": "05336710603640792650"
     },
     "user_tz": -330
    },
    "id": "HFJxT3jZtTvg"
   },
   "outputs": [],
   "source": [
    "from sklearn.preprocessing import StandardScaler\n",
    "sc = StandardScaler()\n",
    "sc.fit(X_train)\n",
    "X_train = sc.transform(X_train)\n",
    "X_test = sc.transform(X_test)"
   ]
  },
  {
   "cell_type": "markdown",
   "metadata": {
    "colab_type": "text",
    "id": "_7o0jgxVtrLm"
   },
   "source": [
    "## Linear Regression - ML Model Training"
   ]
  },
  {
   "cell_type": "code",
   "execution_count": 7,
   "metadata": {
    "colab": {
     "base_uri": "https://localhost:8080/",
     "height": 35
    },
    "colab_type": "code",
    "executionInfo": {
     "elapsed": 1507,
     "status": "ok",
     "timestamp": 1592757128681,
     "user": {
      "displayName": "indian ai production",
      "photoUrl": "",
      "userId": "05336710603640792650"
     },
     "user_tz": -330
    },
    "id": "FGiJwdHHtn5u",
    "outputId": "2bd747a0-c534-4cd5-85b3-54cbbf7415f1"
   },
   "outputs": [
    {
     "data": {
      "text/plain": [
       "LinearRegression(copy_X=True, fit_intercept=True, n_jobs=None, normalize=False)"
      ]
     },
     "execution_count": 7,
     "metadata": {
      "tags": []
     },
     "output_type": "execute_result"
    }
   ],
   "source": [
    "from sklearn.linear_model import LinearRegression\n",
    "lr = LinearRegression()\n",
    "\n",
    "lr.fit(X_train, y_train)"
   ]
  },
  {
   "cell_type": "code",
   "execution_count": 8,
   "metadata": {
    "colab": {
     "base_uri": "https://localhost:8080/",
     "height": 485
    },
    "colab_type": "code",
    "executionInfo": {
     "elapsed": 1294,
     "status": "ok",
     "timestamp": 1592757174351,
     "user": {
      "displayName": "indian ai production",
      "photoUrl": "",
      "userId": "05336710603640792650"
     },
     "user_tz": -330
    },
    "id": "Yn7kt_LbuQde",
    "outputId": "a5030eb4-34d5-44d2-e09e-76b703ffb722"
   },
   "outputs": [
    {
     "data": {
      "text/plain": [
       "array([-5.70206143e+00, -1.25679916e+00,  8.27341833e+01, -1.44906911e+01,\n",
       "        5.75662723e+01,  1.88468905e-01, -1.72593897e+00, -4.51058311e+00,\n",
       "       -2.22589244e+00, -4.28978455e+00, -2.44590976e+00,  5.40246226e-01,\n",
       "       -1.03633400e+00,  1.43064873e+00, -6.25029424e-02, -1.51548783e+00,\n",
       "       -2.14422789e-01,  2.16244155e+00, -1.48710228e+00,  1.95250816e+00,\n",
       "       -3.10761125e+00, -1.28138668e+00, -1.01367155e+00,  1.37968545e-02,\n",
       "        1.10383858e+00,  1.26497611e+00, -3.52405517e+00, -1.21398741e+00,\n",
       "       -5.04622019e-01,  1.46299181e+00, -5.50064233e-01, -8.46468162e-02,\n",
       "        6.84882188e-01, -1.39849820e+00, -1.94761710e-02, -1.57716300e+00,\n",
       "        4.20886278e-01,  8.03443207e-01,  2.99182164e+00,  3.86430413e-03,\n",
       "        1.05037261e-01,  2.89115612e-01, -3.16916626e-01,  1.05625868e+00,\n",
       "       -1.39649279e+00, -3.10533604e+00,  1.01764011e-01, -7.49672917e-02,\n",
       "       -8.03271555e-01, -1.27061856e+00, -8.54046164e-01,  2.64566484e-01,\n",
       "        9.10688839e-01, -8.23059458e-01, -9.07215234e-01,  1.22059216e+00,\n",
       "        2.11418894e+00, -5.38187400e-01, -1.32164338e+00, -8.28349340e-01,\n",
       "        1.28167980e+00, -1.92911295e-01,  6.65824485e-02,  3.65563139e-02,\n",
       "       -1.85069853e+00,  1.49068024e+00, -9.57964753e-01, -9.36110163e-01,\n",
       "       -7.45634897e-01,  7.22643165e-02, -6.79260144e-01, -1.70853833e-01,\n",
       "       -1.72288643e+00, -1.15833746e+00,  5.78931788e-01,  1.37836966e+00,\n",
       "       -1.14424496e+00,  3.96188294e-01, -6.08013157e-01, -2.20959218e+00,\n",
       "        3.45270810e-01,  1.01747431e-03,  1.06563895e-01,  3.04728530e+00,\n",
       "        2.09496392e+00, -8.13481923e-01, -4.18437282e-01,  2.30993396e+00,\n",
       "        3.31858800e-02,  8.07865914e-02,  5.37064987e-02,  1.55347699e+00,\n",
       "        8.13889657e-01, -1.14636462e+00,  3.41805788e-01, -8.28022037e-01,\n",
       "        1.68897360e+00,  2.97657524e-01,  9.59437517e-01,  4.57297702e-01,\n",
       "       -2.22729515e-01, -1.48290835e+00, -6.26342867e-01,  5.86538254e-01,\n",
       "       -1.78547310e+00,  2.19020231e-01, -3.45032599e-01])"
      ]
     },
     "execution_count": 8,
     "metadata": {
      "tags": []
     },
     "output_type": "execute_result"
    }
   ],
   "source": [
    "lr.coef_"
   ]
  },
  {
   "cell_type": "code",
   "execution_count": 10,
   "metadata": {
    "colab": {
     "base_uri": "https://localhost:8080/",
     "height": 35
    },
    "colab_type": "code",
    "executionInfo": {
     "elapsed": 1129,
     "status": "ok",
     "timestamp": 1592757247958,
     "user": {
      "displayName": "indian ai production",
      "photoUrl": "",
      "userId": "05336710603640792650"
     },
     "user_tz": -330
    },
    "id": "D3FGeadMuluX",
    "outputId": "c9bd2b04-a816-4572-b2b7-4db7181ea85d"
   },
   "outputs": [
    {
     "data": {
      "text/plain": [
       "95.0802729985955"
      ]
     },
     "execution_count": 10,
     "metadata": {
      "tags": []
     },
     "output_type": "execute_result"
    }
   ],
   "source": [
    "lr.intercept_"
   ]
  },
  {
   "cell_type": "markdown",
   "metadata": {
    "colab_type": "text",
    "id": "lBVa6iK-u5FZ"
   },
   "source": [
    "## Predict the value of Home and Test"
   ]
  },
  {
   "cell_type": "code",
   "execution_count": 11,
   "metadata": {
    "colab": {
     "base_uri": "https://localhost:8080/",
     "height": 399
    },
    "colab_type": "code",
    "executionInfo": {
     "elapsed": 1569,
     "status": "ok",
     "timestamp": 1592757327413,
     "user": {
      "displayName": "indian ai production",
      "photoUrl": "",
      "userId": "05336710603640792650"
     },
     "user_tz": -330
    },
    "id": "RgCXN7eoutrH",
    "outputId": "65d086dd-9f6f-4a2c-cea4-2460528071ae"
   },
   "outputs": [
    {
     "data": {
      "text/plain": [
       "array([ 0.71301986,  0.0112734 ,  0.30202307,  0.65677518, -0.48064341,\n",
       "       -1.7385623 ,  2.11587407, -0.25430867,  0.51007548, -0.18373025,\n",
       "       -0.16389438, -0.1473229 , -0.13023539, -0.12812824, -0.12598816,\n",
       "       -0.12454231, -0.12953656, -0.12381344, -0.12010681, -0.11551113,\n",
       "       -0.10992018, -0.10909925, -0.10660036, -0.11234866, -0.09315135,\n",
       "       -0.08618799, -0.08923672, -0.09023078, -0.08721571, -0.09023078,\n",
       "       -0.08721571, -0.08195215, -0.08195215, -0.07633675, -0.0751646 ,\n",
       "       -0.08085949, -0.0739743 , -0.07975227, -0.07153563, -0.0751646 ,\n",
       "       -0.0677166 , -0.08085949, -0.07153563, -0.07862985, -0.0751646 ,\n",
       "       -0.07862985, -0.06504853, -0.0751646 , -0.06901264, -0.0751646 ,\n",
       "       -0.06901264, -0.07028523, -0.07276497, -0.07028523, -0.06367332,\n",
       "       -0.06226825, -0.06226825, -0.06639573, -0.06504853, -0.05935999,\n",
       "       -0.06083125, -0.06639573, -0.06639573, -0.06226825, -0.06367332,\n",
       "       -0.05935999, -0.06639573, -0.06367332, -0.06226825, -0.06226825,\n",
       "       -0.05935999, -0.05935999, -0.05935999, -0.05630391, -0.05935999,\n",
       "       -0.05785186, -0.05935999, -0.05935999, -0.06083125, -0.06083125,\n",
       "       -0.05471275, -0.06083125, -0.06226825, -0.05935999, -0.05935999,\n",
       "       -0.06226825, -0.06226825, -0.05785186, -0.06504853, -0.06226825,\n",
       "       -0.06083125, -0.05935999, -0.05307449, -0.05630391, -0.06226825,\n",
       "       -0.05471275, -0.05935999, -0.05471275, -0.05471275, -0.05138463,\n",
       "       -0.05307449, -0.05307449, -0.05471275, -0.05471275, -0.05630391,\n",
       "       -0.05630391, -0.05138463])"
      ]
     },
     "execution_count": 11,
     "metadata": {
      "tags": []
     },
     "output_type": "execute_result"
    }
   ],
   "source": [
    "X_test[0, :]"
   ]
  },
  {
   "cell_type": "code",
   "execution_count": 12,
   "metadata": {
    "colab": {
     "base_uri": "https://localhost:8080/",
     "height": 35
    },
    "colab_type": "code",
    "executionInfo": {
     "elapsed": 1295,
     "status": "ok",
     "timestamp": 1592757374455,
     "user": {
      "displayName": "indian ai production",
      "photoUrl": "",
      "userId": "05336710603640792650"
     },
     "user_tz": -330
    },
    "id": "R3HjZFTTvA9L",
    "outputId": "d38dbee7-d09a-4cad-c2b1-69a16025499a"
   },
   "outputs": [
    {
     "data": {
      "text/plain": [
       "array([76.90661876])"
      ]
     },
     "execution_count": 12,
     "metadata": {
      "tags": []
     },
     "output_type": "execute_result"
    }
   ],
   "source": [
    "lr.predict([X_test[0, :]])"
   ]
  },
  {
   "cell_type": "code",
   "execution_count": 13,
   "metadata": {
    "colab": {
     "base_uri": "https://localhost:8080/",
     "height": 52
    },
    "colab_type": "code",
    "executionInfo": {
     "elapsed": 903,
     "status": "ok",
     "timestamp": 1592757426320,
     "user": {
      "displayName": "indian ai production",
      "photoUrl": "",
      "userId": "05336710603640792650"
     },
     "user_tz": -330
    },
    "id": "A-8Ligh5vMgV",
    "outputId": "3f0fd5d8-6a73-4c5e-c53b-2552a879654d"
   },
   "outputs": [
    {
     "data": {
      "text/plain": [
       "array([ 76.90661876,  15.25005377, 113.6828165 , ...,  21.30296864,\n",
       "        71.43462962, 230.0414626 ])"
      ]
     },
     "execution_count": 13,
     "metadata": {
      "tags": []
     },
     "output_type": "execute_result"
    }
   ],
   "source": [
    "lr.predict(X_test)"
   ]
  },
  {
   "cell_type": "code",
   "execution_count": 14,
   "metadata": {
    "colab": {
     "base_uri": "https://localhost:8080/",
     "height": 225
    },
    "colab_type": "code",
    "executionInfo": {
     "elapsed": 1612,
     "status": "ok",
     "timestamp": 1592757453632,
     "user": {
      "displayName": "indian ai production",
      "photoUrl": "",
      "userId": "05336710603640792650"
     },
     "user_tz": -330
    },
    "id": "Acx0f7EzvZQu",
    "outputId": "306ba607-ac49-4376-ed39-34f1d0c806ae"
   },
   "outputs": [
    {
     "data": {
      "text/plain": [
       "2435     80.00\n",
       "3113     40.00\n",
       "426     120.00\n",
       "1124     79.00\n",
       "1161     45.00\n",
       "         ...  \n",
       "2078     28.34\n",
       "6855     84.00\n",
       "4381     32.00\n",
       "3862     63.00\n",
       "43      180.00\n",
       "Name: price, Length: 1424, dtype: float64"
      ]
     },
     "execution_count": 14,
     "metadata": {
      "tags": []
     },
     "output_type": "execute_result"
    }
   ],
   "source": [
    "y_test"
   ]
  },
  {
   "cell_type": "code",
   "execution_count": 16,
   "metadata": {
    "colab": {
     "base_uri": "https://localhost:8080/",
     "height": 35
    },
    "colab_type": "code",
    "executionInfo": {
     "elapsed": 1574,
     "status": "ok",
     "timestamp": 1592757564224,
     "user": {
      "displayName": "indian ai production",
      "photoUrl": "",
      "userId": "05336710603640792650"
     },
     "user_tz": -330
    },
    "id": "29-MV-aHvfst",
    "outputId": "4232905c-e5cc-4e3d-a913-41851bdf47b8"
   },
   "outputs": [
    {
     "data": {
      "text/plain": [
       "0.7903837092682249"
      ]
     },
     "execution_count": 16,
     "metadata": {
      "tags": []
     },
     "output_type": "execute_result"
    }
   ],
   "source": [
    "lr.score(X_test, y_test)"
   ]
  },
  {
   "cell_type": "code",
   "execution_count": null,
   "metadata": {
    "colab": {},
    "colab_type": "code",
    "id": "Ioz17drev3x1"
   },
   "outputs": [],
   "source": []
  }
 ],
 "metadata": {
  "colab": {
   "authorship_tag": "ABX9TyOE2+7ZBaQpOlutnJ4ZB9sj",
   "collapsed_sections": [],
   "name": "Bangalore House Price Prediction.ipynb",
   "provenance": []
  },
  "kernelspec": {
   "display_name": "Python 3 (ipykernel)",
   "language": "python",
   "name": "python3"
  },
  "language_info": {
   "codemirror_mode": {
    "name": "ipython",
    "version": 3
   },
   "file_extension": ".py",
   "mimetype": "text/x-python",
   "name": "python",
   "nbconvert_exporter": "python",
   "pygments_lexer": "ipython3",
   "version": "3.9.7"
  }
 },
 "nbformat": 4,
 "nbformat_minor": 1
}
