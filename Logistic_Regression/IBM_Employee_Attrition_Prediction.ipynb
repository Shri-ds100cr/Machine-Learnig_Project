{
 "cells": [
  {
   "cell_type": "markdown",
   "id": "52f3a3b7",
   "metadata": {},
   "source": [
    "**SHRi_DS**"
   ]
  },
  {
   "cell_type": "markdown",
   "id": "45b7892e",
   "metadata": {},
   "source": [
    "IBM is an American MNC operating in around 170 countries with major business vertical as computing, software, and hardware.\n",
    "Attrition is a major risk to service-providing organizations where trained and experienced people are the assets of the company. The organization would like to identify the factors which influence the attrition of employees.\n"
   ]
  },
  {
   "cell_type": "code",
   "execution_count": 3,
   "id": "d7130f13",
   "metadata": {},
   "outputs": [],
   "source": [
    "import numpy as np\n",
    "import pandas as pd\n",
    "import tensorflow as tf\n",
    "import matplotlib.pyplot as plt\n",
    "%matplotlib inline\n",
    "from patsy import dmatrices\n",
    "import sklearn\n",
    "import seaborn as sns\n"
   ]
  },
  {
   "cell_type": "code",
   "execution_count": 5,
   "id": "b4fd149c",
   "metadata": {},
   "outputs": [],
   "source": [
    "dataframe=pd.read_csv(\"IBM Attrition Data.csv\")"
   ]
  },
  {
   "cell_type": "code",
   "execution_count": 6,
   "id": "3f102203",
   "metadata": {},
   "outputs": [
    {
     "data": {
      "text/html": [
       "<div>\n",
       "<style scoped>\n",
       "    .dataframe tbody tr th:only-of-type {\n",
       "        vertical-align: middle;\n",
       "    }\n",
       "\n",
       "    .dataframe tbody tr th {\n",
       "        vertical-align: top;\n",
       "    }\n",
       "\n",
       "    .dataframe thead th {\n",
       "        text-align: right;\n",
       "    }\n",
       "</style>\n",
       "<table border=\"1\" class=\"dataframe\">\n",
       "  <thead>\n",
       "    <tr style=\"text-align: right;\">\n",
       "      <th></th>\n",
       "      <th>Age</th>\n",
       "      <th>Attrition</th>\n",
       "      <th>Department</th>\n",
       "      <th>DistanceFromHome</th>\n",
       "      <th>Education</th>\n",
       "      <th>EducationField</th>\n",
       "      <th>EnvironmentSatisfaction</th>\n",
       "      <th>JobSatisfaction</th>\n",
       "      <th>MaritalStatus</th>\n",
       "      <th>MonthlyIncome</th>\n",
       "      <th>NumCompaniesWorked</th>\n",
       "      <th>WorkLifeBalance</th>\n",
       "      <th>YearsAtCompany</th>\n",
       "    </tr>\n",
       "  </thead>\n",
       "  <tbody>\n",
       "    <tr>\n",
       "      <th>0</th>\n",
       "      <td>41</td>\n",
       "      <td>Yes</td>\n",
       "      <td>Sales</td>\n",
       "      <td>1</td>\n",
       "      <td>2</td>\n",
       "      <td>Life Sciences</td>\n",
       "      <td>2</td>\n",
       "      <td>4</td>\n",
       "      <td>Single</td>\n",
       "      <td>5993</td>\n",
       "      <td>8</td>\n",
       "      <td>1</td>\n",
       "      <td>6</td>\n",
       "    </tr>\n",
       "    <tr>\n",
       "      <th>1</th>\n",
       "      <td>49</td>\n",
       "      <td>No</td>\n",
       "      <td>Research &amp; Development</td>\n",
       "      <td>8</td>\n",
       "      <td>1</td>\n",
       "      <td>Life Sciences</td>\n",
       "      <td>3</td>\n",
       "      <td>2</td>\n",
       "      <td>Married</td>\n",
       "      <td>5130</td>\n",
       "      <td>1</td>\n",
       "      <td>3</td>\n",
       "      <td>10</td>\n",
       "    </tr>\n",
       "    <tr>\n",
       "      <th>2</th>\n",
       "      <td>37</td>\n",
       "      <td>Yes</td>\n",
       "      <td>Research &amp; Development</td>\n",
       "      <td>2</td>\n",
       "      <td>2</td>\n",
       "      <td>Other</td>\n",
       "      <td>4</td>\n",
       "      <td>3</td>\n",
       "      <td>Single</td>\n",
       "      <td>2090</td>\n",
       "      <td>6</td>\n",
       "      <td>3</td>\n",
       "      <td>0</td>\n",
       "    </tr>\n",
       "    <tr>\n",
       "      <th>3</th>\n",
       "      <td>33</td>\n",
       "      <td>No</td>\n",
       "      <td>Research &amp; Development</td>\n",
       "      <td>3</td>\n",
       "      <td>4</td>\n",
       "      <td>Life Sciences</td>\n",
       "      <td>4</td>\n",
       "      <td>3</td>\n",
       "      <td>Married</td>\n",
       "      <td>2909</td>\n",
       "      <td>1</td>\n",
       "      <td>3</td>\n",
       "      <td>8</td>\n",
       "    </tr>\n",
       "    <tr>\n",
       "      <th>4</th>\n",
       "      <td>27</td>\n",
       "      <td>No</td>\n",
       "      <td>Research &amp; Development</td>\n",
       "      <td>2</td>\n",
       "      <td>1</td>\n",
       "      <td>Medical</td>\n",
       "      <td>1</td>\n",
       "      <td>2</td>\n",
       "      <td>Married</td>\n",
       "      <td>3468</td>\n",
       "      <td>9</td>\n",
       "      <td>3</td>\n",
       "      <td>2</td>\n",
       "    </tr>\n",
       "  </tbody>\n",
       "</table>\n",
       "</div>"
      ],
      "text/plain": [
       "   Age Attrition              Department  DistanceFromHome  Education  \\\n",
       "0   41       Yes                   Sales                 1          2   \n",
       "1   49        No  Research & Development                 8          1   \n",
       "2   37       Yes  Research & Development                 2          2   \n",
       "3   33        No  Research & Development                 3          4   \n",
       "4   27        No  Research & Development                 2          1   \n",
       "\n",
       "  EducationField  EnvironmentSatisfaction  JobSatisfaction MaritalStatus  \\\n",
       "0  Life Sciences                        2                4        Single   \n",
       "1  Life Sciences                        3                2       Married   \n",
       "2          Other                        4                3        Single   \n",
       "3  Life Sciences                        4                3       Married   \n",
       "4        Medical                        1                2       Married   \n",
       "\n",
       "   MonthlyIncome  NumCompaniesWorked  WorkLifeBalance  YearsAtCompany  \n",
       "0           5993                   8                1               6  \n",
       "1           5130                   1                3              10  \n",
       "2           2090                   6                3               0  \n",
       "3           2909                   1                3               8  \n",
       "4           3468                   9                3               2  "
      ]
     },
     "execution_count": 6,
     "metadata": {},
     "output_type": "execute_result"
    }
   ],
   "source": [
    "dataframe.head()"
   ]
  },
  {
   "cell_type": "markdown",
   "id": "dfe5c3ef",
   "metadata": {},
   "source": [
    "**To get the Features from the dataFrame**"
   ]
  },
  {
   "cell_type": "code",
   "execution_count": 9,
   "id": "9f4eb6da",
   "metadata": {
    "scrolled": false
   },
   "outputs": [
    {
     "name": "stdout",
     "output_type": "stream",
     "text": [
      "Index(['Age', 'Attrition', 'Department', 'DistanceFromHome', 'Education',\n",
      "       'EducationField', 'EnvironmentSatisfaction', 'JobSatisfaction',\n",
      "       'MaritalStatus', 'MonthlyIncome', 'NumCompaniesWorked',\n",
      "       'WorkLifeBalance', 'YearsAtCompany'],\n",
      "      dtype='object')\n"
     ]
    }
   ],
   "source": [
    "names=dataframe.columns\n",
    "print(names)"
   ]
  },
  {
   "cell_type": "code",
   "execution_count": 11,
   "id": "118f475b",
   "metadata": {},
   "outputs": [
    {
     "data": {
      "image/png": "[encoded data removed]",
      "text/plain": [
       "<Figure size 720x576 with 1 Axes>"
      ]
     },
     "metadata": {
      "needs_background": "light"
     },
     "output_type": "display_data"
    }
   ],
   "source": [
    "#histogram for age\n",
    "plt.figure(figsize=(10,8))\n",
    "dataframe[\"Age\"].hist(bins=70)\n",
    "plt.title(\"Age distribution of Employee\")\n",
    "plt.xlabel(\"Age\")\n",
    "plt.ylabel(\"# Of Employee\")\n",
    "plt.show()"
   ]
  },
  {
   "cell_type": "code",
   "execution_count": 13,
   "id": "4c7002e4",
   "metadata": {},
   "outputs": [
    {
     "data": {
      "image/png": "[encoded data removed]",
      "text/plain": [
       "<Figure size 1008x720 with 1 Axes>"
      ]
     },
     "metadata": {
      "needs_background": "light"
     },
     "output_type": "display_data"
    }
   ],
   "source": [
    "#Explore the data for attrition by age\n",
    "plt.figure(figsize=(14,10))\n",
    "plt.scatter(dataframe.Attrition,dataframe.Age,alpha=.55)\n",
    "plt.title(\"Attrition by Age\")\n",
    "plt.ylabel(\"Age\")\n",
    "plt.grid(b=True, which='major', axis='y')\n",
    "plt.show()"
   ]
  },
  {
   "cell_type": "code",
   "execution_count": 14,
   "id": "4841f89e",
   "metadata": {},
   "outputs": [
    {
     "data": {
      "image/png": "[encoded data removed]",
      "text/plain": [
       "<Figure size 576x432 with 1 Axes>"
      ]
     },
     "metadata": {
      "needs_background": "light"
     },
     "output_type": "display_data"
    }
   ],
   "source": [
    "# explore data for Left employees breakdown\n",
    "plt.figure(figsize=(8,6))\n",
    "dataframe.Attrition.value_counts().plot(kind='barh',color='blue',alpha=.65)\n",
    "plt.title(\"Attrition breakdown \")\n",
    "plt.show()"
   ]
  },
  {
   "cell_type": "code",
   "execution_count": 15,
   "id": "bfb7b310",
   "metadata": {},
   "outputs": [
    {
     "data": {
      "image/png": "[encoded data removed]",
      "text/plain": [
       "<Figure size 720x576 with 1 Axes>"
      ]
     },
     "metadata": {
      "needs_background": "light"
     },
     "output_type": "display_data"
    }
   ],
   "source": [
    "# explore data for Education Field distribution\n",
    "plt.figure(figsize=(10,8))\n",
    "dataframe.EducationField.value_counts().plot(kind='barh',color='g',alpha=.65)\n",
    "plt.title(\"Education Field Distribution\")\n",
    "plt.show()"
   ]
  },
  {
   "cell_type": "code",
   "execution_count": 16,
   "id": "4e90a022",
   "metadata": {},
   "outputs": [
    {
     "data": {
      "image/png": "[encoded data removed]",
      "text/plain": [
       "<Figure size 576x432 with 1 Axes>"
      ]
     },
     "metadata": {
      "needs_background": "light"
     },
     "output_type": "display_data"
    }
   ],
   "source": [
    "# explore data for Marital Status\n",
    "plt.figure(figsize=(8,6))\n",
    "dataframe.MaritalStatus.value_counts().plot(kind='bar',alpha=.5)\n",
    "plt.show()"
   ]
  },
  {
   "cell_type": "code",
   "execution_count": 17,
   "id": "4f5c7b5a",
   "metadata": {},
   "outputs": [
    {
     "data": {
      "text/html": [
       "<div>\n",
       "<style scoped>\n",
       "    .dataframe tbody tr th:only-of-type {\n",
       "        vertical-align: middle;\n",
       "    }\n",
       "\n",
       "    .dataframe tbody tr th {\n",
       "        vertical-align: top;\n",
       "    }\n",
       "\n",
       "    .dataframe thead th {\n",
       "        text-align: right;\n",
       "    }\n",
       "</style>\n",
       "<table border=\"1\" class=\"dataframe\">\n",
       "  <thead>\n",
       "    <tr style=\"text-align: right;\">\n",
       "      <th></th>\n",
       "      <th>Age</th>\n",
       "      <th>DistanceFromHome</th>\n",
       "      <th>Education</th>\n",
       "      <th>EnvironmentSatisfaction</th>\n",
       "      <th>JobSatisfaction</th>\n",
       "      <th>MonthlyIncome</th>\n",
       "      <th>NumCompaniesWorked</th>\n",
       "      <th>WorkLifeBalance</th>\n",
       "      <th>YearsAtCompany</th>\n",
       "    </tr>\n",
       "  </thead>\n",
       "  <tbody>\n",
       "    <tr>\n",
       "      <th>count</th>\n",
       "      <td>1470.000000</td>\n",
       "      <td>1470.000000</td>\n",
       "      <td>1470.000000</td>\n",
       "      <td>1470.000000</td>\n",
       "      <td>1470.000000</td>\n",
       "      <td>1470.000000</td>\n",
       "      <td>1470.000000</td>\n",
       "      <td>1470.000000</td>\n",
       "      <td>1470.000000</td>\n",
       "    </tr>\n",
       "    <tr>\n",
       "      <th>mean</th>\n",
       "      <td>36.923810</td>\n",
       "      <td>9.192517</td>\n",
       "      <td>2.912925</td>\n",
       "      <td>2.721769</td>\n",
       "      <td>2.728571</td>\n",
       "      <td>6502.931293</td>\n",
       "      <td>2.693197</td>\n",
       "      <td>2.761224</td>\n",
       "      <td>7.008163</td>\n",
       "    </tr>\n",
       "    <tr>\n",
       "      <th>std</th>\n",
       "      <td>9.135373</td>\n",
       "      <td>8.106864</td>\n",
       "      <td>1.024165</td>\n",
       "      <td>1.093082</td>\n",
       "      <td>1.102846</td>\n",
       "      <td>4707.956783</td>\n",
       "      <td>2.498009</td>\n",
       "      <td>0.706476</td>\n",
       "      <td>6.126525</td>\n",
       "    </tr>\n",
       "    <tr>\n",
       "      <th>min</th>\n",
       "      <td>18.000000</td>\n",
       "      <td>1.000000</td>\n",
       "      <td>1.000000</td>\n",
       "      <td>1.000000</td>\n",
       "      <td>1.000000</td>\n",
       "      <td>1009.000000</td>\n",
       "      <td>0.000000</td>\n",
       "      <td>1.000000</td>\n",
       "      <td>0.000000</td>\n",
       "    </tr>\n",
       "    <tr>\n",
       "      <th>25%</th>\n",
       "      <td>30.000000</td>\n",
       "      <td>2.000000</td>\n",
       "      <td>2.000000</td>\n",
       "      <td>2.000000</td>\n",
       "      <td>2.000000</td>\n",
       "      <td>2911.000000</td>\n",
       "      <td>1.000000</td>\n",
       "      <td>2.000000</td>\n",
       "      <td>3.000000</td>\n",
       "    </tr>\n",
       "    <tr>\n",
       "      <th>50%</th>\n",
       "      <td>36.000000</td>\n",
       "      <td>7.000000</td>\n",
       "      <td>3.000000</td>\n",
       "      <td>3.000000</td>\n",
       "      <td>3.000000</td>\n",
       "      <td>4919.000000</td>\n",
       "      <td>2.000000</td>\n",
       "      <td>3.000000</td>\n",
       "      <td>5.000000</td>\n",
       "    </tr>\n",
       "    <tr>\n",
       "      <th>75%</th>\n",
       "      <td>43.000000</td>\n",
       "      <td>14.000000</td>\n",
       "      <td>4.000000</td>\n",
       "      <td>4.000000</td>\n",
       "      <td>4.000000</td>\n",
       "      <td>8379.000000</td>\n",
       "      <td>4.000000</td>\n",
       "      <td>3.000000</td>\n",
       "      <td>9.000000</td>\n",
       "    </tr>\n",
       "    <tr>\n",
       "      <th>max</th>\n",
       "      <td>60.000000</td>\n",
       "      <td>29.000000</td>\n",
       "      <td>5.000000</td>\n",
       "      <td>4.000000</td>\n",
       "      <td>4.000000</td>\n",
       "      <td>19999.000000</td>\n",
       "      <td>9.000000</td>\n",
       "      <td>4.000000</td>\n",
       "      <td>40.000000</td>\n",
       "    </tr>\n",
       "  </tbody>\n",
       "</table>\n",
       "</div>"
      ],
      "text/plain": [
       "               Age  DistanceFromHome    Education  EnvironmentSatisfaction  \\\n",
       "count  1470.000000       1470.000000  1470.000000              1470.000000   \n",
       "mean     36.923810          9.192517     2.912925                 2.721769   \n",
       "std       9.135373          8.106864     1.024165                 1.093082   \n",
       "min      18.000000          1.000000     1.000000                 1.000000   \n",
       "25%      30.000000          2.000000     2.000000                 2.000000   \n",
       "50%      36.000000          7.000000     3.000000                 3.000000   \n",
       "75%      43.000000         14.000000     4.000000                 4.000000   \n",
       "max      60.000000         29.000000     5.000000                 4.000000   \n",
       "\n",
       "       JobSatisfaction  MonthlyIncome  NumCompaniesWorked  WorkLifeBalance  \\\n",
       "count      1470.000000    1470.000000         1470.000000      1470.000000   \n",
       "mean          2.728571    6502.931293            2.693197         2.761224   \n",
       "std           1.102846    4707.956783            2.498009         0.706476   \n",
       "min           1.000000    1009.000000            0.000000         1.000000   \n",
       "25%           2.000000    2911.000000            1.000000         2.000000   \n",
       "50%           3.000000    4919.000000            2.000000         3.000000   \n",
       "75%           4.000000    8379.000000            4.000000         3.000000   \n",
       "max           4.000000   19999.000000            9.000000         4.000000   \n",
       "\n",
       "       YearsAtCompany  \n",
       "count     1470.000000  \n",
       "mean         7.008163  \n",
       "std          6.126525  \n",
       "min          0.000000  \n",
       "25%          3.000000  \n",
       "50%          5.000000  \n",
       "75%          9.000000  \n",
       "max         40.000000  "
      ]
     },
     "execution_count": 17,
     "metadata": {},
     "output_type": "execute_result"
    }
   ],
   "source": [
    "dataframe.describe()"
   ]
  },
  {
   "cell_type": "code",
   "execution_count": 18,
   "id": "c0db4b2c",
   "metadata": {},
   "outputs": [
    {
     "name": "stdout",
     "output_type": "stream",
     "text": [
      "<class 'pandas.core.frame.DataFrame'>\n",
      "RangeIndex: 1470 entries, 0 to 1469\n",
      "Data columns (total 13 columns):\n",
      " #   Column                   Non-Null Count  Dtype \n",
      "---  ------                   --------------  ----- \n",
      " 0   Age                      1470 non-null   int64 \n",
      " 1   Attrition                1470 non-null   object\n",
      " 2   Department               1470 non-null   object\n",
      " 3   DistanceFromHome         1470 non-null   int64 \n",
      " 4   Education                1470 non-null   int64 \n",
      " 5   EducationField           1470 non-null   object\n",
      " 6   EnvironmentSatisfaction  1470 non-null   int64 \n",
      " 7   JobSatisfaction          1470 non-null   int64 \n",
      " 8   MaritalStatus            1470 non-null   object\n",
      " 9   MonthlyIncome            1470 non-null   int64 \n",
      " 10  NumCompaniesWorked       1470 non-null   int64 \n",
      " 11  WorkLifeBalance          1470 non-null   int64 \n",
      " 12  YearsAtCompany           1470 non-null   int64 \n",
      "dtypes: int64(9), object(4)\n",
      "memory usage: 149.4+ KB\n"
     ]
    }
   ],
   "source": [
    "dataframe.info()"
   ]
  },
  {
   "cell_type": "code",
   "execution_count": 21,
   "id": "3805d1ce",
   "metadata": {},
   "outputs": [
    {
     "data": {
      "text/plain": [
       "Index(['Age', 'Attrition', 'Department', 'DistanceFromHome', 'Education',\n",
       "       'EducationField', 'EnvironmentSatisfaction', 'JobSatisfaction',\n",
       "       'MaritalStatus', 'MonthlyIncome', 'NumCompaniesWorked',\n",
       "       'WorkLifeBalance', 'YearsAtCompany'],\n",
       "      dtype='object')"
      ]
     },
     "execution_count": 21,
     "metadata": {},
     "output_type": "execute_result"
    }
   ],
   "source": [
    "dataframe.columns"
   ]
  },
  {
   "cell_type": "markdown",
   "id": "cb0e931a",
   "metadata": {},
   "source": [
    "**Return sample standard deviation over requested axis**"
   ]
  },
  {
   "cell_type": "code",
   "execution_count": 23,
   "id": "d2916455",
   "metadata": {},
   "outputs": [
    {
     "name": "stderr",
     "output_type": "stream",
     "text": [
      "C:\\Users\\user\\AppData\\Local\\Temp/ipykernel_12044/3401367348.py:1: FutureWarning: Dropping of nuisance columns in DataFrame reductions (with 'numeric_only=None') is deprecated; in a future version this will raise TypeError.  Select only valid columns before calling the reduction.\n",
      "  dataframe.std()\n"
     ]
    },
    {
     "data": {
      "text/plain": [
       "Age                           9.135373\n",
       "DistanceFromHome              8.106864\n",
       "Education                     1.024165\n",
       "EnvironmentSatisfaction       1.093082\n",
       "JobSatisfaction               1.102846\n",
       "MonthlyIncome              4707.956783\n",
       "NumCompaniesWorked            2.498009\n",
       "WorkLifeBalance               0.706476\n",
       "YearsAtCompany                6.126525\n",
       "dtype: float64"
      ]
     },
     "execution_count": 23,
     "metadata": {},
     "output_type": "execute_result"
    }
   ],
   "source": [
    "dataframe.std()"
   ]
  },
  {
   "cell_type": "code",
   "execution_count": 24,
   "id": "542f4a9e",
   "metadata": {},
   "outputs": [
    {
     "data": {
      "text/plain": [
       "No     1233\n",
       "Yes     237\n",
       "Name: Attrition, dtype: int64"
      ]
     },
     "execution_count": 24,
     "metadata": {},
     "output_type": "execute_result"
    }
   ],
   "source": [
    "dataframe['Attrition'].value_counts()"
   ]
  },
  {
   "cell_type": "code",
   "execution_count": 26,
   "id": "c7a0ccfa",
   "metadata": {},
   "outputs": [
    {
     "data": {
      "text/plain": [
       "dtype('O')"
      ]
     },
     "execution_count": 26,
     "metadata": {},
     "output_type": "execute_result"
    }
   ],
   "source": [
    "dataframe[\"Attrition\"].dtypes"
   ]
  },
  {
   "cell_type": "code",
   "execution_count": 28,
   "id": "41e155a3",
   "metadata": {},
   "outputs": [],
   "source": [
    "dataframe['Attrition'].replace('Yes',1 ,inplace=True)\n",
    "dataframe['Attrition'].replace('No',0 ,inplace=True)"
   ]
  },
  {
   "cell_type": "code",
   "execution_count": 29,
   "id": "757c0591",
   "metadata": {},
   "outputs": [
    {
     "data": {
      "text/html": [
       "<div>\n",
       "<style scoped>\n",
       "    .dataframe tbody tr th:only-of-type {\n",
       "        vertical-align: middle;\n",
       "    }\n",
       "\n",
       "    .dataframe tbody tr th {\n",
       "        vertical-align: top;\n",
       "    }\n",
       "\n",
       "    .dataframe thead th {\n",
       "        text-align: right;\n",
       "    }\n",
       "</style>\n",
       "<table border=\"1\" class=\"dataframe\">\n",
       "  <thead>\n",
       "    <tr style=\"text-align: right;\">\n",
       "      <th></th>\n",
       "      <th>Age</th>\n",
       "      <th>Attrition</th>\n",
       "      <th>Department</th>\n",
       "      <th>DistanceFromHome</th>\n",
       "      <th>Education</th>\n",
       "      <th>EducationField</th>\n",
       "      <th>EnvironmentSatisfaction</th>\n",
       "      <th>JobSatisfaction</th>\n",
       "      <th>MaritalStatus</th>\n",
       "      <th>MonthlyIncome</th>\n",
       "      <th>NumCompaniesWorked</th>\n",
       "      <th>WorkLifeBalance</th>\n",
       "      <th>YearsAtCompany</th>\n",
       "    </tr>\n",
       "  </thead>\n",
       "  <tbody>\n",
       "    <tr>\n",
       "      <th>0</th>\n",
       "      <td>41</td>\n",
       "      <td>1</td>\n",
       "      <td>Sales</td>\n",
       "      <td>1</td>\n",
       "      <td>2</td>\n",
       "      <td>Life Sciences</td>\n",
       "      <td>2</td>\n",
       "      <td>4</td>\n",
       "      <td>Single</td>\n",
       "      <td>5993</td>\n",
       "      <td>8</td>\n",
       "      <td>1</td>\n",
       "      <td>6</td>\n",
       "    </tr>\n",
       "    <tr>\n",
       "      <th>1</th>\n",
       "      <td>49</td>\n",
       "      <td>0</td>\n",
       "      <td>Research &amp; Development</td>\n",
       "      <td>8</td>\n",
       "      <td>1</td>\n",
       "      <td>Life Sciences</td>\n",
       "      <td>3</td>\n",
       "      <td>2</td>\n",
       "      <td>Married</td>\n",
       "      <td>5130</td>\n",
       "      <td>1</td>\n",
       "      <td>3</td>\n",
       "      <td>10</td>\n",
       "    </tr>\n",
       "    <tr>\n",
       "      <th>2</th>\n",
       "      <td>37</td>\n",
       "      <td>1</td>\n",
       "      <td>Research &amp; Development</td>\n",
       "      <td>2</td>\n",
       "      <td>2</td>\n",
       "      <td>Other</td>\n",
       "      <td>4</td>\n",
       "      <td>3</td>\n",
       "      <td>Single</td>\n",
       "      <td>2090</td>\n",
       "      <td>6</td>\n",
       "      <td>3</td>\n",
       "      <td>0</td>\n",
       "    </tr>\n",
       "    <tr>\n",
       "      <th>3</th>\n",
       "      <td>33</td>\n",
       "      <td>0</td>\n",
       "      <td>Research &amp; Development</td>\n",
       "      <td>3</td>\n",
       "      <td>4</td>\n",
       "      <td>Life Sciences</td>\n",
       "      <td>4</td>\n",
       "      <td>3</td>\n",
       "      <td>Married</td>\n",
       "      <td>2909</td>\n",
       "      <td>1</td>\n",
       "      <td>3</td>\n",
       "      <td>8</td>\n",
       "    </tr>\n",
       "    <tr>\n",
       "      <th>4</th>\n",
       "      <td>27</td>\n",
       "      <td>0</td>\n",
       "      <td>Research &amp; Development</td>\n",
       "      <td>2</td>\n",
       "      <td>1</td>\n",
       "      <td>Medical</td>\n",
       "      <td>1</td>\n",
       "      <td>2</td>\n",
       "      <td>Married</td>\n",
       "      <td>3468</td>\n",
       "      <td>9</td>\n",
       "      <td>3</td>\n",
       "      <td>2</td>\n",
       "    </tr>\n",
       "    <tr>\n",
       "      <th>5</th>\n",
       "      <td>32</td>\n",
       "      <td>0</td>\n",
       "      <td>Research &amp; Development</td>\n",
       "      <td>2</td>\n",
       "      <td>2</td>\n",
       "      <td>Life Sciences</td>\n",
       "      <td>4</td>\n",
       "      <td>4</td>\n",
       "      <td>Single</td>\n",
       "      <td>3068</td>\n",
       "      <td>0</td>\n",
       "      <td>2</td>\n",
       "      <td>7</td>\n",
       "    </tr>\n",
       "    <tr>\n",
       "      <th>6</th>\n",
       "      <td>59</td>\n",
       "      <td>0</td>\n",
       "      <td>Research &amp; Development</td>\n",
       "      <td>3</td>\n",
       "      <td>3</td>\n",
       "      <td>Medical</td>\n",
       "      <td>3</td>\n",
       "      <td>1</td>\n",
       "      <td>Married</td>\n",
       "      <td>2670</td>\n",
       "      <td>4</td>\n",
       "      <td>2</td>\n",
       "      <td>1</td>\n",
       "    </tr>\n",
       "    <tr>\n",
       "      <th>7</th>\n",
       "      <td>30</td>\n",
       "      <td>0</td>\n",
       "      <td>Research &amp; Development</td>\n",
       "      <td>24</td>\n",
       "      <td>1</td>\n",
       "      <td>Life Sciences</td>\n",
       "      <td>4</td>\n",
       "      <td>3</td>\n",
       "      <td>Divorced</td>\n",
       "      <td>2693</td>\n",
       "      <td>1</td>\n",
       "      <td>3</td>\n",
       "      <td>1</td>\n",
       "    </tr>\n",
       "    <tr>\n",
       "      <th>8</th>\n",
       "      <td>38</td>\n",
       "      <td>0</td>\n",
       "      <td>Research &amp; Development</td>\n",
       "      <td>23</td>\n",
       "      <td>3</td>\n",
       "      <td>Life Sciences</td>\n",
       "      <td>4</td>\n",
       "      <td>3</td>\n",
       "      <td>Single</td>\n",
       "      <td>9526</td>\n",
       "      <td>0</td>\n",
       "      <td>3</td>\n",
       "      <td>9</td>\n",
       "    </tr>\n",
       "    <tr>\n",
       "      <th>9</th>\n",
       "      <td>36</td>\n",
       "      <td>0</td>\n",
       "      <td>Research &amp; Development</td>\n",
       "      <td>27</td>\n",
       "      <td>3</td>\n",
       "      <td>Medical</td>\n",
       "      <td>3</td>\n",
       "      <td>3</td>\n",
       "      <td>Married</td>\n",
       "      <td>5237</td>\n",
       "      <td>6</td>\n",
       "      <td>2</td>\n",
       "      <td>7</td>\n",
       "    </tr>\n",
       "  </tbody>\n",
       "</table>\n",
       "</div>"
      ],
      "text/plain": [
       "   Age  Attrition              Department  DistanceFromHome  Education  \\\n",
       "0   41          1                   Sales                 1          2   \n",
       "1   49          0  Research & Development                 8          1   \n",
       "2   37          1  Research & Development                 2          2   \n",
       "3   33          0  Research & Development                 3          4   \n",
       "4   27          0  Research & Development                 2          1   \n",
       "5   32          0  Research & Development                 2          2   \n",
       "6   59          0  Research & Development                 3          3   \n",
       "7   30          0  Research & Development                24          1   \n",
       "8   38          0  Research & Development                23          3   \n",
       "9   36          0  Research & Development                27          3   \n",
       "\n",
       "  EducationField  EnvironmentSatisfaction  JobSatisfaction MaritalStatus  \\\n",
       "0  Life Sciences                        2                4        Single   \n",
       "1  Life Sciences                        3                2       Married   \n",
       "2          Other                        4                3        Single   \n",
       "3  Life Sciences                        4                3       Married   \n",
       "4        Medical                        1                2       Married   \n",
       "5  Life Sciences                        4                4        Single   \n",
       "6        Medical                        3                1       Married   \n",
       "7  Life Sciences                        4                3      Divorced   \n",
       "8  Life Sciences                        4                3        Single   \n",
       "9        Medical                        3                3       Married   \n",
       "\n",
       "   MonthlyIncome  NumCompaniesWorked  WorkLifeBalance  YearsAtCompany  \n",
       "0           5993                   8                1               6  \n",
       "1           5130                   1                3              10  \n",
       "2           2090                   6                3               0  \n",
       "3           2909                   1                3               8  \n",
       "4           3468                   9                3               2  \n",
       "5           3068                   0                2               7  \n",
       "6           2670                   4                2               1  \n",
       "7           2693                   1                3               1  \n",
       "8           9526                   0                3               9  \n",
       "9           5237                   6                2               7  "
      ]
     },
     "execution_count": 29,
     "metadata": {},
     "output_type": "execute_result"
    }
   ],
   "source": [
    "dataframe.head(10)"
   ]
  },
  {
   "cell_type": "markdown",
   "id": "147f7a7b",
   "metadata": {},
   "source": [
    "# Model Building_Using _Logistic Regression"
   ]
  },
  {
   "cell_type": "code",
   "execution_count": 30,
   "id": "3a0f5d52",
   "metadata": {},
   "outputs": [
    {
     "data": {
      "text/plain": [
       "0    1\n",
       "1    0\n",
       "2    1\n",
       "3    0\n",
       "4    0\n",
       "Name: Attrition, dtype: int64"
      ]
     },
     "execution_count": 30,
     "metadata": {},
     "output_type": "execute_result"
    }
   ],
   "source": [
    " # building up a logistic regression model\n",
    "X = dataframe.drop(['Attrition'],axis=1)\n",
    "X.head()\n",
    "Y = dataframe['Attrition']\n",
    "Y.head()"
   ]
  },
  {
   "cell_type": "code",
   "execution_count": 31,
   "id": "8bc15663",
   "metadata": {},
   "outputs": [],
   "source": [
    "dataframe['EducationField'].replace('Life Sciences',1, inplace=True)\n",
    "dataframe['EducationField'].replace('Medical',2, inplace=True)\n",
    "dataframe['EducationField'].replace('Marketing', 3, inplace=True)\n",
    "dataframe['EducationField'].replace('Other',4, inplace=True)\n",
    "dataframe['EducationField'].replace('Technical Degree',5, inplace=True)\n",
    "dataframe['EducationField'].replace('Human Resources', 6, inplace=True)"
   ]
  },
  {
   "cell_type": "code",
   "execution_count": 32,
   "id": "ce2c752e",
   "metadata": {},
   "outputs": [
    {
     "data": {
      "text/plain": [
       "1    606\n",
       "2    464\n",
       "3    159\n",
       "5    132\n",
       "4     82\n",
       "6     27\n",
       "Name: EducationField, dtype: int64"
      ]
     },
     "execution_count": 32,
     "metadata": {},
     "output_type": "execute_result"
    }
   ],
   "source": [
    "dataframe['EducationField'].value_counts()"
   ]
  },
  {
   "cell_type": "code",
   "execution_count": 33,
   "id": "3a94dc4a",
   "metadata": {},
   "outputs": [
    {
     "data": {
      "text/plain": [
       "Research & Development    961\n",
       "Sales                     446\n",
       "Human Resources            63\n",
       "Name: Department, dtype: int64"
      ]
     },
     "execution_count": 33,
     "metadata": {},
     "output_type": "execute_result"
    }
   ],
   "source": [
    "dataframe['Department'].value_counts()"
   ]
  },
  {
   "cell_type": "code",
   "execution_count": 34,
   "id": "fc4bd015",
   "metadata": {},
   "outputs": [],
   "source": [
    "dataframe['Department'].replace('Research & Development',1, inplace=True)\n",
    "dataframe['Department'].replace('Sales',2, inplace=True)\n",
    "dataframe['Department'].replace('Human Resources', 3, inplace=True)"
   ]
  },
  {
   "cell_type": "code",
   "execution_count": 35,
   "id": "7d94cce6",
   "metadata": {},
   "outputs": [
    {
     "data": {
      "text/plain": [
       "1    961\n",
       "2    446\n",
       "3     63\n",
       "Name: Department, dtype: int64"
      ]
     },
     "execution_count": 35,
     "metadata": {},
     "output_type": "execute_result"
    }
   ],
   "source": [
    "dataframe['Department'].value_counts()"
   ]
  },
  {
   "cell_type": "code",
   "execution_count": 36,
   "id": "ee588f82",
   "metadata": {},
   "outputs": [
    {
     "data": {
      "text/plain": [
       "Married     673\n",
       "Single      470\n",
       "Divorced    327\n",
       "Name: MaritalStatus, dtype: int64"
      ]
     },
     "execution_count": 36,
     "metadata": {},
     "output_type": "execute_result"
    }
   ],
   "source": [
    "dataframe['MaritalStatus'].value_counts()"
   ]
  },
  {
   "cell_type": "code",
   "execution_count": 37,
   "id": "261c2266",
   "metadata": {},
   "outputs": [],
   "source": [
    "dataframe['MaritalStatus'].replace('Married',1, inplace=True)\n",
    "dataframe['MaritalStatus'].replace('Single',2, inplace=True)\n",
    "dataframe['MaritalStatus'].replace('Divorced',3, inplace=True)"
   ]
  },
  {
   "cell_type": "code",
   "execution_count": 38,
   "id": "d4fec436",
   "metadata": {},
   "outputs": [
    {
     "data": {
      "text/plain": [
       "1    673\n",
       "2    470\n",
       "3    327\n",
       "Name: MaritalStatus, dtype: int64"
      ]
     },
     "execution_count": 38,
     "metadata": {},
     "output_type": "execute_result"
    }
   ],
   "source": [
    "dataframe['MaritalStatus'].value_counts()"
   ]
  },
  {
   "cell_type": "code",
   "execution_count": 39,
   "id": "42b36f0f",
   "metadata": {},
   "outputs": [
    {
     "data": {
      "text/plain": [
       "Age                        int64\n",
       "Attrition                  int64\n",
       "Department                 int64\n",
       "DistanceFromHome           int64\n",
       "Education                  int64\n",
       "EducationField             int64\n",
       "EnvironmentSatisfaction    int64\n",
       "JobSatisfaction            int64\n",
       "MaritalStatus              int64\n",
       "MonthlyIncome              int64\n",
       "NumCompaniesWorked         int64\n",
       "WorkLifeBalance            int64\n",
       "YearsAtCompany             int64\n",
       "dtype: object"
      ]
     },
     "execution_count": 39,
     "metadata": {},
     "output_type": "execute_result"
    }
   ],
   "source": [
    "x=dataframe.select_dtypes(include=['int64'])\n",
    "x.dtypes"
   ]
  },
  {
   "cell_type": "code",
   "execution_count": 40,
   "id": "9024f72d",
   "metadata": {},
   "outputs": [
    {
     "data": {
      "text/plain": [
       "Index(['Age', 'Attrition', 'Department', 'DistanceFromHome', 'Education',\n",
       "       'EducationField', 'EnvironmentSatisfaction', 'JobSatisfaction',\n",
       "       'MaritalStatus', 'MonthlyIncome', 'NumCompaniesWorked',\n",
       "       'WorkLifeBalance', 'YearsAtCompany'],\n",
       "      dtype='object')"
      ]
     },
     "execution_count": 40,
     "metadata": {},
     "output_type": "execute_result"
    }
   ],
   "source": [
    "x.columns"
   ]
  },
  {
   "cell_type": "code",
   "execution_count": 41,
   "id": "66848b47",
   "metadata": {},
   "outputs": [
    {
     "data": {
      "text/plain": [
       "0    1\n",
       "1    0\n",
       "2    1\n",
       "3    0\n",
       "4    0\n",
       "Name: Attrition, dtype: int64"
      ]
     },
     "execution_count": 41,
     "metadata": {},
     "output_type": "execute_result"
    }
   ],
   "source": [
    "y=dataframe['Attrition']\n",
    "y.head()"
   ]
  },
  {
   "cell_type": "code",
   "execution_count": 42,
   "id": "c7206f7c",
   "metadata": {},
   "outputs": [
    {
     "name": "stdout",
     "output_type": "stream",
     "text": [
      "Index(['Intercept', 'Age', 'Department', 'DistanceFromHome', 'Education',\n",
      "       'EducationField', 'YearsAtCompany'],\n",
      "      dtype='object')\n"
     ]
    }
   ],
   "source": [
    "y, x = dmatrices('Attrition ~ Age + Department + \\\n",
    "                  DistanceFromHome + Education + EducationField + YearsAtCompany',\n",
    "                  dataframe, return_type=\"dataframe\")\n",
    "print (x.columns)"
   ]
  },
  {
   "cell_type": "code",
   "execution_count": 47,
   "id": "67f99c68",
   "metadata": {},
   "outputs": [],
   "source": [
    "y = np.ravel(y)"
   ]
  },
  {
   "cell_type": "code",
   "execution_count": 49,
   "id": "5d5061dd",
   "metadata": {},
   "outputs": [
    {
     "data": {
      "text/plain": [
       "0.8408163265306122"
      ]
     },
     "execution_count": 49,
     "metadata": {},
     "output_type": "execute_result"
    }
   ],
   "source": [
    "from sklearn.linear_model import LogisticRegression\n",
    "\n",
    "model = LogisticRegression()\n",
    "model = model.fit(x, y)\n",
    "\n",
    "# check the accuracy on the training set\n",
    "model.score(x, y)"
   ]
  },
  {
   "cell_type": "code",
   "execution_count": 50,
   "id": "02f01eeb",
   "metadata": {},
   "outputs": [
    {
     "data": {
      "text/plain": [
       "0.16122448979591836"
      ]
     },
     "execution_count": 50,
     "metadata": {},
     "output_type": "execute_result"
    }
   ],
   "source": [
    "y.mean()"
   ]
  },
  {
   "cell_type": "code",
   "execution_count": 51,
   "id": "f9008a1d",
   "metadata": {},
   "outputs": [
    {
     "data": {
      "text/plain": [
       "LogisticRegression()"
      ]
     },
     "execution_count": 51,
     "metadata": {},
     "output_type": "execute_result"
    }
   ],
   "source": [
    "X_train,X_test,y_train,y_test=sklearn.model_selection.train_test_split(x,y, test_size=0.3, random_state=0)\n",
    "model2=LogisticRegression()\n",
    "model2.fit(X_train, y_train)"
   ]
  },
  {
   "cell_type": "code",
   "execution_count": 52,
   "id": "636306ac",
   "metadata": {},
   "outputs": [
    {
     "name": "stdout",
     "output_type": "stream",
     "text": [
      "[0. 0. 0. 0. 0. 0. 0. 0. 0. 0. 0. 0. 0. 0. 0. 0. 0. 0. 0. 0. 0. 0. 0. 0.\n",
      " 0. 0. 0. 0. 0. 0. 0. 0. 0. 0. 0. 0. 0. 0. 0. 0. 0. 0. 0. 0. 0. 0. 0. 0.\n",
      " 0. 0. 0. 0. 0. 0. 0. 0. 0. 0. 0. 0. 0. 0. 0. 0. 0. 0. 0. 0. 0. 0. 0. 0.\n",
      " 0. 0. 0. 0. 0. 0. 0. 0. 0. 0. 0. 0. 0. 0. 0. 0. 0. 0. 0. 0. 0. 0. 0. 0.\n",
      " 0. 0. 0. 0. 0. 0. 0. 0. 0. 0. 0. 0. 0. 0. 0. 0. 0. 0. 0. 0. 0. 0. 0. 0.\n",
      " 0. 0. 0. 0. 0. 0. 0. 0. 0. 0. 0. 0. 0. 0. 0. 0. 0. 0. 0. 0. 0. 0. 0. 0.\n",
      " 0. 0. 0. 0. 0. 0. 0. 0. 0. 0. 0. 0. 0. 0. 0. 0. 0. 0. 0. 0. 0. 0. 0. 0.\n",
      " 0. 0. 0. 0. 0. 0. 0. 0. 0. 0. 0. 0. 0. 0. 0. 0. 0. 0. 0. 0. 0. 0. 0. 0.\n",
      " 0. 0. 0. 0. 0. 0. 0. 0. 0. 0. 0. 0. 0. 0. 0. 0. 0. 0. 0. 0. 0. 0. 0. 0.\n",
      " 0. 0. 0. 0. 0. 0. 0. 0. 0. 0. 0. 0. 0. 0. 0. 0. 0. 0. 0. 0. 0. 0. 0. 0.\n",
      " 0. 0. 0. 0. 0. 0. 0. 0. 0. 0. 0. 0. 0. 0. 0. 0. 0. 0. 0. 0. 0. 0. 0. 0.\n",
      " 0. 0. 0. 0. 0. 0. 0. 0. 0. 0. 0. 0. 0. 0. 0. 0. 0. 0. 0. 0. 0. 0. 0. 0.\n",
      " 0. 0. 0. 0. 0. 0. 0. 0. 0. 0. 0. 0. 0. 0. 0. 0. 0. 0. 0. 0. 0. 0. 0. 0.\n",
      " 0. 0. 0. 0. 0. 0. 0. 0. 1. 0. 0. 0. 0. 0. 0. 0. 0. 0. 0. 0. 0. 0. 0. 0.\n",
      " 0. 0. 0. 0. 0. 0. 0. 0. 0. 0. 0. 0. 0. 0. 0. 0. 0. 0. 0. 0. 0. 0. 0. 0.\n",
      " 0. 0. 0. 0. 0. 0. 0. 0. 0. 0. 0. 0. 0. 0. 0. 0. 0. 0. 0. 0. 0. 0. 0. 0.\n",
      " 0. 0. 0. 0. 0. 0. 0. 0. 0. 0. 0. 0. 0. 0. 0. 0. 0. 0. 0. 0. 0. 0. 0. 0.\n",
      " 0. 0. 0. 0. 0. 0. 0. 0. 0. 0. 0. 0. 0. 0. 0. 0. 0. 0. 0. 0. 0. 0. 0. 0.\n",
      " 0. 0. 0. 0. 0. 0. 0. 0. 0.]\n"
     ]
    }
   ],
   "source": [
    "predicted= model2.predict(X_test)\n",
    "print (predicted)"
   ]
  },
  {
   "cell_type": "code",
   "execution_count": 53,
   "id": "b60d2ea1",
   "metadata": {},
   "outputs": [
    {
     "name": "stdout",
     "output_type": "stream",
     "text": [
      "[[0.86179612 0.13820388]\n",
      " [0.80754589 0.19245411]\n",
      " [0.741239   0.258761  ]\n",
      " [0.83441347 0.16558653]\n",
      " [0.73499924 0.26500076]\n",
      " [0.79097729 0.20902271]\n",
      " [0.85615188 0.14384812]\n",
      " [0.85699663 0.14300337]\n",
      " [0.96699063 0.03300937]\n",
      " [0.9368522  0.0631478 ]\n",
      " [0.95099292 0.04900708]\n",
      " [0.83101554 0.16898446]\n",
      " [0.86296563 0.13703437]\n",
      " [0.86581195 0.13418805]\n",
      " [0.88750616 0.11249384]\n",
      " [0.88892615 0.11107385]\n",
      " [0.88569737 0.11430263]\n",
      " [0.78516575 0.21483425]\n",
      " [0.79794489 0.20205511]\n",
      " [0.88511317 0.11488683]\n",
      " [0.70651559 0.29348441]\n",
      " [0.94676704 0.05323296]\n",
      " [0.86736251 0.13263749]\n",
      " [0.84276444 0.15723556]\n",
      " [0.60336781 0.39663219]\n",
      " [0.81129199 0.18870801]\n",
      " [0.91813741 0.08186259]\n",
      " [0.93285526 0.06714474]\n",
      " [0.68230713 0.31769287]\n",
      " [0.87027149 0.12972851]\n",
      " [0.87266392 0.12733608]\n",
      " [0.76968726 0.23031274]\n",
      " [0.86435794 0.13564206]\n",
      " [0.95758891 0.04241109]\n",
      " [0.84461493 0.15538507]\n",
      " [0.86719345 0.13280655]\n",
      " [0.90465996 0.09534004]\n",
      " [0.68936409 0.31063591]\n",
      " [0.90703626 0.09296374]\n",
      " [0.80663464 0.19336536]\n",
      " [0.91515742 0.08484258]\n",
      " [0.82351252 0.17648748]\n",
      " [0.93711527 0.06288473]\n",
      " [0.93411327 0.06588673]\n",
      " [0.89447663 0.10552337]\n",
      " [0.8531775  0.1468225 ]\n",
      " [0.78922387 0.21077613]\n",
      " [0.84879891 0.15120109]\n",
      " [0.66402405 0.33597595]\n",
      " [0.7625227  0.2374773 ]\n",
      " [0.92851123 0.07148877]\n",
      " [0.78953694 0.21046306]\n",
      " [0.86166582 0.13833418]\n",
      " [0.85837872 0.14162128]\n",
      " [0.87217676 0.12782324]\n",
      " [0.78950885 0.21049115]\n",
      " [0.876908   0.123092  ]\n",
      " [0.8416546  0.1583454 ]\n",
      " [0.72847094 0.27152906]\n",
      " [0.83181384 0.16818616]\n",
      " [0.90095026 0.09904974]\n",
      " [0.71077296 0.28922704]\n",
      " [0.92823034 0.07176966]\n",
      " [0.84375671 0.15624329]\n",
      " [0.79544096 0.20455904]\n",
      " [0.86826179 0.13173821]\n",
      " [0.91679456 0.08320544]\n",
      " [0.84763057 0.15236943]\n",
      " [0.89253711 0.10746289]\n",
      " [0.62872035 0.37127965]\n",
      " [0.93875407 0.06124593]\n",
      " [0.7262031  0.2737969 ]\n",
      " [0.85652976 0.14347024]\n",
      " [0.84226025 0.15773975]\n",
      " [0.77436354 0.22563646]\n",
      " [0.71899549 0.28100451]\n",
      " [0.93587404 0.06412596]\n",
      " [0.95710082 0.04289918]\n",
      " [0.79185806 0.20814194]\n",
      " [0.89370445 0.10629555]\n",
      " [0.91382049 0.08617951]\n",
      " [0.79354587 0.20645413]\n",
      " [0.77934001 0.22065999]\n",
      " [0.79638941 0.20361059]\n",
      " [0.83800511 0.16199489]\n",
      " [0.71395636 0.28604364]\n",
      " [0.97772724 0.02227276]\n",
      " [0.94645988 0.05354012]\n",
      " [0.88617633 0.11382367]\n",
      " [0.79620172 0.20379828]\n",
      " [0.61863773 0.38136227]\n",
      " [0.81866474 0.18133526]\n",
      " [0.74504093 0.25495907]\n",
      " [0.86779497 0.13220503]\n",
      " [0.87071143 0.12928857]\n",
      " [0.81717453 0.18282547]\n",
      " [0.71840769 0.28159231]\n",
      " [0.59825815 0.40174185]\n",
      " [0.83951565 0.16048435]\n",
      " [0.88351332 0.11648668]\n",
      " [0.74352531 0.25647469]\n",
      " [0.76631631 0.23368369]\n",
      " [0.98033044 0.01966956]\n",
      " [0.91857478 0.08142522]\n",
      " [0.77432838 0.22567162]\n",
      " [0.92514829 0.07485171]\n",
      " [0.88123385 0.11876615]\n",
      " [0.74587132 0.25412868]\n",
      " [0.90478366 0.09521634]\n",
      " [0.78685482 0.21314518]\n",
      " [0.81147772 0.18852228]\n",
      " [0.93472175 0.06527825]\n",
      " [0.93836514 0.06163486]\n",
      " [0.79411742 0.20588258]\n",
      " [0.81372893 0.18627107]\n",
      " [0.91610926 0.08389074]\n",
      " [0.90428356 0.09571644]\n",
      " [0.84669411 0.15330589]\n",
      " [0.95384567 0.04615433]\n",
      " [0.91283697 0.08716303]\n",
      " [0.85919618 0.14080382]\n",
      " [0.85902489 0.14097511]\n",
      " [0.87519514 0.12480486]\n",
      " [0.76114652 0.23885348]\n",
      " [0.92217695 0.07782305]\n",
      " [0.96859418 0.03140582]\n",
      " [0.94398237 0.05601763]\n",
      " [0.81780276 0.18219724]\n",
      " [0.8805871  0.1194129 ]\n",
      " [0.77894296 0.22105704]\n",
      " [0.97124474 0.02875526]\n",
      " [0.88807664 0.11192336]\n",
      " [0.78715267 0.21284733]\n",
      " [0.82001473 0.17998527]\n",
      " [0.94934556 0.05065444]\n",
      " [0.95888944 0.04111056]\n",
      " [0.73559178 0.26440822]\n",
      " [0.93417013 0.06582987]\n",
      " [0.73750588 0.26249412]\n",
      " [0.82136728 0.17863272]\n",
      " [0.82171201 0.17828799]\n",
      " [0.89896708 0.10103292]\n",
      " [0.78745774 0.21254226]\n",
      " [0.8982536  0.1017464 ]\n",
      " [0.91433831 0.08566169]\n",
      " [0.92724746 0.07275254]\n",
      " [0.96594975 0.03405025]\n",
      " [0.94417384 0.05582616]\n",
      " [0.9307309  0.0692691 ]\n",
      " [0.66320535 0.33679465]\n",
      " [0.84168641 0.15831359]\n",
      " [0.82636808 0.17363192]\n",
      " [0.8061663  0.1938337 ]\n",
      " [0.96157641 0.03842359]\n",
      " [0.93515164 0.06484836]\n",
      " [0.94778641 0.05221359]\n",
      " [0.97337835 0.02662165]\n",
      " [0.79297025 0.20702975]\n",
      " [0.87770204 0.12229796]\n",
      " [0.86103661 0.13896339]\n",
      " [0.95185485 0.04814515]\n",
      " [0.93131493 0.06868507]\n",
      " [0.75685337 0.24314663]\n",
      " [0.74997775 0.25002225]\n",
      " [0.95527876 0.04472124]\n",
      " [0.86950734 0.13049266]\n",
      " [0.81376759 0.18623241]\n",
      " [0.76990613 0.23009387]\n",
      " [0.80077891 0.19922109]\n",
      " [0.92801131 0.07198869]\n",
      " [0.90949255 0.09050745]\n",
      " [0.9455764  0.0544236 ]\n",
      " [0.9333048  0.0666952 ]\n",
      " [0.6914585  0.3085415 ]\n",
      " [0.930569   0.069431  ]\n",
      " [0.74525386 0.25474614]\n",
      " [0.78594323 0.21405677]\n",
      " [0.93308611 0.06691389]\n",
      " [0.80878296 0.19121704]\n",
      " [0.85096458 0.14903542]\n",
      " [0.66956241 0.33043759]\n",
      " [0.90338383 0.09661617]\n",
      " [0.91158945 0.08841055]\n",
      " [0.87300497 0.12699503]\n",
      " [0.92939066 0.07060934]\n",
      " [0.66661662 0.33338338]\n",
      " [0.89098521 0.10901479]\n",
      " [0.86216696 0.13783304]\n",
      " [0.78838555 0.21161445]\n",
      " [0.53099511 0.46900489]\n",
      " [0.73344301 0.26655699]\n",
      " [0.71053965 0.28946035]\n",
      " [0.85530503 0.14469497]\n",
      " [0.86960589 0.13039411]\n",
      " [0.75469999 0.24530001]\n",
      " [0.89823522 0.10176478]\n",
      " [0.79247822 0.20752178]\n",
      " [0.90643165 0.09356835]\n",
      " [0.77650775 0.22349225]\n",
      " [0.88387791 0.11612209]\n",
      " [0.85404307 0.14595693]\n",
      " [0.81899332 0.18100668]\n",
      " [0.74448477 0.25551523]\n",
      " [0.86259428 0.13740572]\n",
      " [0.77822617 0.22177383]\n",
      " [0.7692831  0.2307169 ]\n",
      " [0.79679215 0.20320785]\n",
      " [0.92096594 0.07903406]\n",
      " [0.74573744 0.25426256]\n",
      " [0.87499238 0.12500762]\n",
      " [0.85503293 0.14496707]\n",
      " [0.77292121 0.22707879]\n",
      " [0.87227268 0.12772732]\n",
      " [0.67395306 0.32604694]\n",
      " [0.93621675 0.06378325]\n",
      " [0.82479478 0.17520522]\n",
      " [0.95146055 0.04853945]\n",
      " [0.83462443 0.16537557]\n",
      " [0.81106494 0.18893506]\n",
      " [0.8082824  0.1917176 ]\n",
      " [0.87664163 0.12335837]\n",
      " [0.66786968 0.33213032]\n",
      " [0.59616822 0.40383178]\n",
      " [0.98979371 0.01020629]\n",
      " [0.70634372 0.29365628]\n",
      " [0.9163311  0.0836689 ]\n",
      " [0.92133484 0.07866516]\n",
      " [0.71383902 0.28616098]\n",
      " [0.62453873 0.37546127]\n",
      " [0.76440566 0.23559434]\n",
      " [0.95401666 0.04598334]\n",
      " [0.88186727 0.11813273]\n",
      " [0.86019908 0.13980092]\n",
      " [0.92117387 0.07882613]\n",
      " [0.88019174 0.11980826]\n",
      " [0.80451402 0.19548598]\n",
      " [0.80585173 0.19414827]\n",
      " [0.91345507 0.08654493]\n",
      " [0.72101797 0.27898203]\n",
      " [0.94508015 0.05491985]\n",
      " [0.90906922 0.09093078]\n",
      " [0.73381725 0.26618275]\n",
      " [0.9810919  0.0189081 ]\n",
      " [0.85490441 0.14509559]\n",
      " [0.89817083 0.10182917]\n",
      " [0.82436989 0.17563011]\n",
      " [0.83387104 0.16612896]\n",
      " [0.88136664 0.11863336]\n",
      " [0.88031303 0.11968697]\n",
      " [0.8756062  0.1243938 ]\n",
      " [0.81617205 0.18382795]\n",
      " [0.88028854 0.11971146]\n",
      " [0.61530782 0.38469218]\n",
      " [0.88826171 0.11173829]\n",
      " [0.89692827 0.10307173]\n",
      " [0.85328926 0.14671074]\n",
      " [0.98297049 0.01702951]\n",
      " [0.77341219 0.22658781]\n",
      " [0.6218484  0.3781516 ]\n",
      " [0.82739132 0.17260868]\n",
      " [0.84083334 0.15916666]\n",
      " [0.84808589 0.15191411]\n",
      " [0.84937035 0.15062965]\n",
      " [0.75540939 0.24459061]\n",
      " [0.86188853 0.13811147]\n",
      " [0.906847   0.093153  ]\n",
      " [0.8466326  0.1533674 ]\n",
      " [0.81290889 0.18709111]\n",
      " [0.7405353  0.2594647 ]\n",
      " [0.8703528  0.1296472 ]\n",
      " [0.83938077 0.16061923]\n",
      " [0.86267942 0.13732058]\n",
      " [0.66362842 0.33637158]\n",
      " [0.90671716 0.09328284]\n",
      " [0.87056319 0.12943681]\n",
      " [0.92580802 0.07419198]\n",
      " [0.84386828 0.15613172]\n",
      " [0.89878137 0.10121863]\n",
      " [0.91239509 0.08760491]\n",
      " [0.79867615 0.20132385]\n",
      " [0.64052582 0.35947418]\n",
      " [0.84683935 0.15316065]\n",
      " [0.75503168 0.24496832]\n",
      " [0.85264535 0.14735465]\n",
      " [0.99251437 0.00748563]\n",
      " [0.86138228 0.13861772]\n",
      " [0.88140151 0.11859849]\n",
      " [0.8275708  0.1724292 ]\n",
      " [0.93027086 0.06972914]\n",
      " [0.87307436 0.12692564]\n",
      " [0.88802404 0.11197596]\n",
      " [0.83753293 0.16246707]\n",
      " [0.86481026 0.13518974]\n",
      " [0.86515559 0.13484441]\n",
      " [0.89754799 0.10245201]\n",
      " [0.78409101 0.21590899]\n",
      " [0.79165104 0.20834896]\n",
      " [0.88388113 0.11611887]\n",
      " [0.6541891  0.3458109 ]\n",
      " [0.94059394 0.05940606]\n",
      " [0.89913442 0.10086558]\n",
      " [0.7252558  0.2747442 ]\n",
      " [0.69085463 0.30914537]\n",
      " [0.87591633 0.12408367]\n",
      " [0.86562259 0.13437741]\n",
      " [0.97508886 0.02491114]\n",
      " [0.86265136 0.13734864]\n",
      " [0.54035995 0.45964005]\n",
      " [0.91302295 0.08697705]\n",
      " [0.74609551 0.25390449]\n",
      " [0.86758145 0.13241855]\n",
      " [0.88852752 0.11147248]\n",
      " [0.87911719 0.12088281]\n",
      " [0.85664957 0.14335043]\n",
      " [0.77281942 0.22718058]\n",
      " [0.80713999 0.19286001]\n",
      " [0.85285502 0.14714498]\n",
      " [0.77595548 0.22404452]\n",
      " [0.70409859 0.29590141]\n",
      " [0.88971655 0.11028345]\n",
      " [0.48962979 0.51037021]\n",
      " [0.92370664 0.07629336]\n",
      " [0.75572296 0.24427704]\n",
      " [0.67788788 0.32211212]\n",
      " [0.91301006 0.08698994]\n",
      " [0.94029219 0.05970781]\n",
      " [0.88009803 0.11990197]\n",
      " [0.88591185 0.11408815]\n",
      " [0.95656842 0.04343158]\n",
      " [0.89909433 0.10090567]\n",
      " [0.94784657 0.05215343]\n",
      " [0.83255758 0.16744242]\n",
      " [0.87822148 0.12177852]\n",
      " [0.81945784 0.18054216]\n",
      " [0.81668774 0.18331226]\n",
      " [0.95036184 0.04963816]\n",
      " [0.8694014  0.1305986 ]\n",
      " [0.90541612 0.09458388]\n",
      " [0.83661195 0.16338805]\n",
      " [0.84583633 0.15416367]\n",
      " [0.79307968 0.20692032]\n",
      " [0.81808117 0.18191883]\n",
      " [0.81598393 0.18401607]\n",
      " [0.83677539 0.16322461]\n",
      " [0.91443041 0.08556959]\n",
      " [0.9153309  0.0846691 ]\n",
      " [0.68503415 0.31496585]\n",
      " [0.99073764 0.00926236]\n",
      " [0.76794984 0.23205016]\n",
      " [0.79871903 0.20128097]\n",
      " [0.73176823 0.26823177]\n",
      " [0.67465134 0.32534866]\n",
      " [0.79712434 0.20287566]\n",
      " [0.84935616 0.15064384]\n",
      " [0.86467081 0.13532919]\n",
      " [0.85844159 0.14155841]\n",
      " [0.8453327  0.1546673 ]\n",
      " [0.83038811 0.16961189]\n",
      " [0.92192768 0.07807232]\n",
      " [0.83189717 0.16810283]\n",
      " [0.97707561 0.02292439]\n",
      " [0.90418253 0.09581747]\n",
      " [0.92691212 0.07308788]\n",
      " [0.84797347 0.15202653]\n",
      " [0.76712559 0.23287441]\n",
      " [0.94895168 0.05104832]\n",
      " [0.94782099 0.05217901]\n",
      " [0.75181473 0.24818527]\n",
      " [0.87880468 0.12119532]\n",
      " [0.80770789 0.19229211]\n",
      " [0.93864311 0.06135689]\n",
      " [0.86008486 0.13991514]\n",
      " [0.76056645 0.23943355]\n",
      " [0.90892486 0.09107514]\n",
      " [0.7540214  0.2459786 ]\n",
      " [0.94271851 0.05728149]\n",
      " [0.91827324 0.08172676]\n",
      " [0.9054513  0.0945487 ]\n",
      " [0.76879434 0.23120566]\n",
      " [0.9235815  0.0764185 ]\n",
      " [0.80705862 0.19294138]\n",
      " [0.90079533 0.09920467]\n",
      " [0.87933347 0.12066653]\n",
      " [0.80585662 0.19414338]\n",
      " [0.83150032 0.16849968]\n",
      " [0.53816709 0.46183291]\n",
      " [0.95031834 0.04968166]\n",
      " [0.73291864 0.26708136]\n",
      " [0.89182866 0.10817134]\n",
      " [0.80079847 0.19920153]\n",
      " [0.87739811 0.12260189]\n",
      " [0.96805238 0.03194762]\n",
      " [0.817416   0.182584  ]\n",
      " [0.86150103 0.13849897]\n",
      " [0.59407505 0.40592495]\n",
      " [0.8262574  0.1737426 ]\n",
      " [0.92534992 0.07465008]\n",
      " [0.81692199 0.18307801]\n",
      " [0.92586791 0.07413209]\n",
      " [0.89094625 0.10905375]\n",
      " [0.70071709 0.29928291]\n",
      " [0.82181895 0.17818105]\n",
      " [0.96589953 0.03410047]\n",
      " [0.86996989 0.13003011]\n",
      " [0.89918561 0.10081439]\n",
      " [0.88983793 0.11016207]\n",
      " [0.81432452 0.18567548]\n",
      " [0.85830051 0.14169949]\n",
      " [0.83878664 0.16121336]\n",
      " [0.84056579 0.15943421]\n",
      " [0.82661182 0.17338818]\n",
      " [0.94075182 0.05924818]\n",
      " [0.83183535 0.16816465]\n",
      " [0.77561343 0.22438657]\n",
      " [0.69399511 0.30600489]\n",
      " [0.85962126 0.14037874]\n",
      " [0.82513945 0.17486055]\n",
      " [0.84107708 0.15892292]\n",
      " [0.8719102  0.1280898 ]\n",
      " [0.89447663 0.10552337]\n",
      " [0.82945332 0.17054668]\n",
      " [0.72856745 0.27143255]\n",
      " [0.94692826 0.05307174]\n",
      " [0.96074303 0.03925697]\n",
      " [0.90500198 0.09499802]\n",
      " [0.88599999 0.11400001]\n",
      " [0.84865645 0.15134355]\n",
      " [0.79086954 0.20913046]\n",
      " [0.67302928 0.32697072]\n",
      " [0.93390218 0.06609782]\n",
      " [0.6564485  0.3435515 ]\n",
      " [0.74382829 0.25617171]\n",
      " [0.94248429 0.05751571]\n",
      " [0.78365692 0.21634308]\n",
      " [0.90655697 0.09344303]\n",
      " [0.8157873  0.1842127 ]\n",
      " [0.8914974  0.1085026 ]\n",
      " [0.85791875 0.14208125]\n",
      " [0.67453827 0.32546173]\n",
      " [0.9313041  0.0686959 ]\n",
      " [0.89999992 0.10000008]]\n"
     ]
    }
   ],
   "source": [
    "probs = model2.predict_proba(X_test)\n",
    "print (probs)"
   ]
  },
  {
   "cell_type": "code",
   "execution_count": 54,
   "id": "813303a4",
   "metadata": {},
   "outputs": [
    {
     "name": "stdout",
     "output_type": "stream",
     "text": [
      "0.8435374149659864\n",
      "0.6502502887947632\n"
     ]
    }
   ],
   "source": [
    "from sklearn import metrics\n",
    "\n",
    "print (metrics.accuracy_score(y_test, predicted))\n",
    "print (metrics.roc_auc_score(y_test, probs[:, 1]))"
   ]
  },
  {
   "cell_type": "code",
   "execution_count": 55,
   "id": "cf3e2c0f",
   "metadata": {},
   "outputs": [
    {
     "name": "stdout",
     "output_type": "stream",
     "text": [
      "[[371   0]\n",
      " [ 69   1]]\n",
      "              precision    recall  f1-score   support\n",
      "\n",
      "         0.0       0.84      1.00      0.91       371\n",
      "         1.0       1.00      0.01      0.03        70\n",
      "\n",
      "    accuracy                           0.84       441\n",
      "   macro avg       0.92      0.51      0.47       441\n",
      "weighted avg       0.87      0.84      0.77       441\n",
      "\n"
     ]
    }
   ],
   "source": [
    "print (metrics.confusion_matrix(y_test, predicted))\n",
    "print (metrics.classification_report(y_test, predicted))"
   ]
  },
  {
   "cell_type": "code",
   "execution_count": 56,
   "id": "9d9bf77d",
   "metadata": {},
   "outputs": [
    {
     "name": "stdout",
     "output_type": "stream",
     "text": [
      "      Intercept   Age  Department  DistanceFromHome  Education  \\\n",
      "338         1.0  30.0         2.0               5.0        3.0   \n",
      "363         1.0  33.0         2.0               5.0        3.0   \n",
      "759         1.0  45.0         3.0              24.0        4.0   \n",
      "793         1.0  28.0         1.0              15.0        2.0   \n",
      "581         1.0  30.0         1.0               1.0        3.0   \n",
      "...         ...   ...         ...               ...        ...   \n",
      "763         1.0  34.0         2.0              10.0        4.0   \n",
      "835         1.0  35.0         3.0               8.0        4.0   \n",
      "1216        1.0  43.0         2.0               2.0        3.0   \n",
      "559         1.0  38.0         1.0               2.0        5.0   \n",
      "684         1.0  40.0         2.0              10.0        4.0   \n",
      "\n",
      "      EducationField  YearsAtCompany  \n",
      "338              3.0            10.0  \n",
      "363              3.0             1.0  \n",
      "759              2.0             6.0  \n",
      "793              1.0             4.0  \n",
      "581              1.0             2.0  \n",
      "...              ...             ...  \n",
      "763              1.0             1.0  \n",
      "835              5.0             5.0  \n",
      "1216             2.0            10.0  \n",
      "559              2.0             1.0  \n",
      "684              3.0             1.0  \n",
      "\n",
      "[1029 rows x 7 columns]\n"
     ]
    }
   ],
   "source": [
    "print (X_train)"
   ]
  },
  {
   "cell_type": "code",
   "execution_count": 57,
   "id": "af4dadbc",
   "metadata": {},
   "outputs": [
    {
     "name": "stdout",
     "output_type": "stream",
     "text": [
      "[[6.25571973e-07 9.99999374e-01]]\n"
     ]
    }
   ],
   "source": [
    "#add random values to KK according to the parameters mentioned above to check the proabily of attrition of the employee\n",
    "kk=[[1.0, 23.0, 1.0, 500.0, 3.0, 24.0, 1.0]]\n",
    "print(model.predict_proba(kk))"
   ]
  },
  {
   "cell_type": "code",
   "execution_count": null,
   "id": "cf4b6a10",
   "metadata": {},
   "outputs": [],
   "source": []
  }
 ],
 "metadata": {
  "kernelspec": {
   "display_name": "Python 3 (ipykernel)",
   "language": "python",
   "name": "python3"
  },
  "language_info": {
   "codemirror_mode": {
    "name": "ipython",
    "version": 3
   },
   "file_extension": ".py",
   "mimetype": "text/x-python",
   "name": "python",
   "nbconvert_exporter": "python",
   "pygments_lexer": "ipython3",
   "version": "3.9.7"
  }
 },
 "nbformat": 4,
 "nbformat_minor": 5
}
